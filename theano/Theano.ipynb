{
 "cells": [
  {
   "cell_type": "code",
   "execution_count": 33,
   "metadata": {
    "collapsed": false
   },
   "outputs": [],
   "source": [
    "import theano\n",
    "import theano.tensor as T\n",
    "import numpy as np"
   ]
  },
  {
   "cell_type": "code",
   "execution_count": 2,
   "metadata": {
    "collapsed": true
   },
   "outputs": [],
   "source": [
    "y = T.scalar()\n",
    "x = T.scalar()\n"
   ]
  },
  {
   "cell_type": "code",
   "execution_count": 5,
   "metadata": {
    "collapsed": false
   },
   "outputs": [
    {
     "name": "stdout",
     "output_type": "stream",
     "text": [
      "Elemwise{add,no_inplace}.0\n"
     ]
    }
   ],
   "source": [
    "y = 3*(x**2) + 1\n",
    "type(y)\n",
    "print y"
   ]
  },
  {
   "cell_type": "code",
   "execution_count": 7,
   "metadata": {
    "collapsed": false
   },
   "outputs": [
    {
     "data": {
      "text/plain": [
       "'((TensorConstant{3} * (<TensorType(float32, scalar)> ** TensorConstant{2})) + TensorConstant{1})'"
      ]
     },
     "execution_count": 7,
     "metadata": {},
     "output_type": "execute_result"
    }
   ],
   "source": [
    "theano.pprint(y)"
   ]
  },
  {
   "cell_type": "code",
   "execution_count": 9,
   "metadata": {
    "collapsed": false
   },
   "outputs": [
    {
     "name": "stdout",
     "output_type": "stream",
     "text": [
      "Elemwise{add,no_inplace} [id A] ''   \n",
      " |Elemwise{mul,no_inplace} [id B] ''   \n",
      " | |TensorConstant{3} [id C]\n",
      " | |Elemwise{pow,no_inplace} [id D] ''   \n",
      " |   |<TensorType(float32, scalar)> [id E]\n",
      " |   |TensorConstant{2} [id F]\n",
      " |TensorConstant{1} [id G]\n"
     ]
    }
   ],
   "source": [
    "theano.printing.debugprint(y)"
   ]
  },
  {
   "cell_type": "code",
   "execution_count": 12,
   "metadata": {
    "collapsed": false
   },
   "outputs": [
    {
     "data": {
      "image/svg+xml": [
       "<svg height=\"382pt\" viewBox=\"0.00 0.00 670.00 382.00\" width=\"670pt\" xmlns=\"http://www.w3.org/2000/svg\" xmlns:xlink=\"http://www.w3.org/1999/xlink\">\n",
       "<g class=\"graph\" id=\"graph0\" transform=\"scale(1 1) rotate(0) translate(4 378)\">\n",
       "<title>G</title>\n",
       "<polygon fill=\"white\" points=\"-4,4 -4,-378 666,-378 666,4 -4,4\" stroke=\"none\"/>\n",
       "<!-- 140453374105616 -->\n",
       "<g class=\"node\" id=\"node1\"><title>140453374105616</title>\n",
       "<ellipse cx=\"472\" cy=\"-268\" fill=\"#ffaabb\" rx=\"110.235\" ry=\"18\" stroke=\"black\"/>\n",
       "<text font-family=\"Times,serif\" font-size=\"14.00\" text-anchor=\"middle\" x=\"472\" y=\"-264.3\">Elemwise{pow,no_inplace}</text>\n",
       "</g>\n",
       "<!-- 140453374104400 -->\n",
       "<g class=\"node\" id=\"node4\"><title>140453374104400</title>\n",
       "<ellipse cx=\"314\" cy=\"-180\" fill=\"#ffaabb\" rx=\"109.261\" ry=\"18\" stroke=\"black\"/>\n",
       "<text font-family=\"Times,serif\" font-size=\"14.00\" text-anchor=\"middle\" x=\"314\" y=\"-176.3\">Elemwise{mul,no_inplace}</text>\n",
       "</g>\n",
       "<!-- 140453374105616&#45;&gt;140453374104400 -->\n",
       "<g class=\"edge\" id=\"edge4\"><title>140453374105616-&gt;140453374104400</title>\n",
       "<path d=\"M441.91,-250.622C416.651,-236.873 380.394,-217.139 352.928,-202.188\" fill=\"none\" stroke=\"black\"/>\n",
       "<polygon fill=\"black\" points=\"354.435,-199.024 343.978,-197.317 351.088,-205.172 354.435,-199.024\" stroke=\"black\"/>\n",
       "<text font-family=\"Times,serif\" font-size=\"14.00\" text-anchor=\"middle\" x=\"488.5\" y=\"-220.3\">1 TensorType(float32, scalar)</text>\n",
       "</g>\n",
       "<!-- 140454295419024 -->\n",
       "<g class=\"node\" id=\"node2\"><title>140454295419024</title>\n",
       "<polygon fill=\"green\" points=\"457.5,-374 290.5,-374 290.5,-338 457.5,-338 457.5,-374\" stroke=\"black\"/>\n",
       "<text font-family=\"Times,serif\" font-size=\"14.00\" text-anchor=\"middle\" x=\"374\" y=\"-352.3\">TensorType(float32, scalar)</text>\n",
       "</g>\n",
       "<!-- 140454295419024&#45;&gt;140453374105616 -->\n",
       "<g class=\"edge\" id=\"edge1\"><title>140454295419024-&gt;140453374105616</title>\n",
       "<path d=\"M393.832,-337.597C408.636,-324.605 429.024,-306.714 445.267,-292.46\" fill=\"none\" stroke=\"black\"/>\n",
       "<polygon fill=\"black\" points=\"447.657,-295.019 452.865,-285.792 443.04,-289.757 447.657,-295.019\" stroke=\"black\"/>\n",
       "<text font-family=\"Times,serif\" font-size=\"14.00\" text-anchor=\"middle\" x=\"434.5\" y=\"-308.3\">0</text>\n",
       "</g>\n",
       "<!-- 140453374105296 -->\n",
       "<g class=\"node\" id=\"node3\"><title>140453374105296</title>\n",
       "<polygon fill=\"green\" points=\"661.5,-374 476.5,-374 476.5,-338 661.5,-338 661.5,-374\" stroke=\"black\"/>\n",
       "<text font-family=\"Times,serif\" font-size=\"14.00\" text-anchor=\"middle\" x=\"569\" y=\"-352.3\">val=2 TensorType(int8, scalar)</text>\n",
       "</g>\n",
       "<!-- 140453374105296&#45;&gt;140453374105616 -->\n",
       "<g class=\"edge\" id=\"edge2\"><title>140453374105296-&gt;140453374105616</title>\n",
       "<path d=\"M549.371,-337.597C534.718,-324.605 514.537,-306.714 498.46,-292.46\" fill=\"none\" stroke=\"black\"/>\n",
       "<polygon fill=\"black\" points=\"500.745,-289.807 490.94,-285.792 496.101,-295.045 500.745,-289.807\" stroke=\"black\"/>\n",
       "<text font-family=\"Times,serif\" font-size=\"14.00\" text-anchor=\"middle\" x=\"532.5\" y=\"-308.3\">1</text>\n",
       "</g>\n",
       "<!-- 140453374104144 -->\n",
       "<g class=\"node\" id=\"node6\"><title>140453374104144</title>\n",
       "<ellipse cx=\"155\" cy=\"-92\" fill=\"#ffaabb\" rx=\"108.31\" ry=\"18\" stroke=\"black\"/>\n",
       "<text font-family=\"Times,serif\" font-size=\"14.00\" text-anchor=\"middle\" x=\"155\" y=\"-88.3\">Elemwise{add,no_inplace}</text>\n",
       "</g>\n",
       "<!-- 140453374104400&#45;&gt;140453374104144 -->\n",
       "<g class=\"edge\" id=\"edge5\"><title>140453374104400-&gt;140453374104144</title>\n",
       "<path d=\"M283.719,-162.622C258.3,-148.873 221.814,-129.139 194.174,-114.188\" fill=\"none\" stroke=\"black\"/>\n",
       "<polygon fill=\"black\" points=\"195.629,-110.996 185.168,-109.317 192.299,-117.153 195.629,-110.996\" stroke=\"black\"/>\n",
       "<text font-family=\"Times,serif\" font-size=\"14.00\" text-anchor=\"middle\" x=\"329.5\" y=\"-132.3\">0 TensorType(float32, scalar)</text>\n",
       "</g>\n",
       "<!-- 140453374104720 -->\n",
       "<g class=\"node\" id=\"node5\"><title>140453374104720</title>\n",
       "<polygon fill=\"green\" points=\"343.5,-286 158.5,-286 158.5,-250 343.5,-250 343.5,-286\" stroke=\"black\"/>\n",
       "<text font-family=\"Times,serif\" font-size=\"14.00\" text-anchor=\"middle\" x=\"251\" y=\"-264.3\">val=3 TensorType(int8, scalar)</text>\n",
       "</g>\n",
       "<!-- 140453374104720&#45;&gt;140453374104400 -->\n",
       "<g class=\"edge\" id=\"edge3\"><title>140453374104720-&gt;140453374104400</title>\n",
       "<path d=\"M263.749,-249.597C272.86,-237.159 285.262,-220.23 295.465,-206.302\" fill=\"none\" stroke=\"black\"/>\n",
       "<polygon fill=\"black\" points=\"298.399,-208.219 301.485,-198.084 292.752,-204.083 298.399,-208.219\" stroke=\"black\"/>\n",
       "<text font-family=\"Times,serif\" font-size=\"14.00\" text-anchor=\"middle\" x=\"291.5\" y=\"-220.3\">0</text>\n",
       "</g>\n",
       "<!-- 140453374103760 -->\n",
       "<g class=\"node\" id=\"node8\"><title>140453374103760</title>\n",
       "<polygon fill=\"blue\" points=\"238.5,-36 71.5,-36 71.5,-0 238.5,-0 238.5,-36\" stroke=\"black\"/>\n",
       "<text font-family=\"Times,serif\" font-size=\"14.00\" text-anchor=\"middle\" x=\"155\" y=\"-14.3\">TensorType(float32, scalar)</text>\n",
       "</g>\n",
       "<!-- 140453374104144&#45;&gt;140453374103760 -->\n",
       "<g class=\"edge\" id=\"edge7\"><title>140453374104144-&gt;140453374103760</title>\n",
       "<path d=\"M155,-73.937C155,-65.8072 155,-55.8761 155,-46.7047\" fill=\"none\" stroke=\"black\"/>\n",
       "<polygon fill=\"black\" points=\"158.5,-46.4406 155,-36.4407 151.5,-46.4407 158.5,-46.4406\" stroke=\"black\"/>\n",
       "</g>\n",
       "<!-- 140453374105360 -->\n",
       "<g class=\"node\" id=\"node7\"><title>140453374105360</title>\n",
       "<polygon fill=\"green\" points=\"185.5,-198 0.5,-198 0.5,-162 185.5,-162 185.5,-198\" stroke=\"black\"/>\n",
       "<text font-family=\"Times,serif\" font-size=\"14.00\" text-anchor=\"middle\" x=\"93\" y=\"-176.3\">val=1 TensorType(int8, scalar)</text>\n",
       "</g>\n",
       "<!-- 140453374105360&#45;&gt;140453374104144 -->\n",
       "<g class=\"edge\" id=\"edge6\"><title>140453374105360-&gt;140453374104144</title>\n",
       "<path d=\"M105.547,-161.597C114.513,-149.159 126.718,-132.23 136.759,-118.302\" fill=\"none\" stroke=\"black\"/>\n",
       "<polygon fill=\"black\" points=\"139.675,-120.243 142.684,-110.084 133.996,-116.149 139.675,-120.243\" stroke=\"black\"/>\n",
       "<text font-family=\"Times,serif\" font-size=\"14.00\" text-anchor=\"middle\" x=\"133.5\" y=\"-132.3\">1</text>\n",
       "</g>\n",
       "</g>\n",
       "</svg>"
      ],
      "text/plain": [
       "<IPython.core.display.SVG object>"
      ]
     },
     "execution_count": 12,
     "metadata": {},
     "output_type": "execute_result"
    }
   ],
   "source": [
    "# graph\n",
    "from IPython.display import SVG\n",
    "SVG(theano.printing.pydotprint(y,return_image=True,format='svg'))"
   ]
  },
  {
   "cell_type": "code",
   "execution_count": 15,
   "metadata": {
    "collapsed": false
   },
   "outputs": [
    {
     "data": {
      "text/plain": [
       "array(13.0, dtype=float32)"
      ]
     },
     "execution_count": 15,
     "metadata": {},
     "output_type": "execute_result"
    }
   ],
   "source": [
    "y.eval({x:2})"
   ]
  },
  {
   "cell_type": "code",
   "execution_count": 16,
   "metadata": {
    "collapsed": true
   },
   "outputs": [],
   "source": [
    "f = theano.function([x],y)"
   ]
  },
  {
   "cell_type": "code",
   "execution_count": 23,
   "metadata": {
    "collapsed": false
   },
   "outputs": [
    {
     "data": {
      "text/plain": [
       "array(13.0, dtype=float32)"
      ]
     },
     "execution_count": 23,
     "metadata": {},
     "output_type": "execute_result"
    }
   ],
   "source": [
    "f(2)"
   ]
  },
  {
   "cell_type": "code",
   "execution_count": 26,
   "metadata": {
    "collapsed": true
   },
   "outputs": [],
   "source": [
    "def viz(f):\n",
    "    return SVG(theano.printing.pydotprint(f,return_image=True,format='svg'))"
   ]
  },
  {
   "cell_type": "code",
   "execution_count": 29,
   "metadata": {
    "collapsed": false
   },
   "outputs": [
    {
     "data": {
      "image/svg+xml": [
       "<svg height=\"368pt\" viewBox=\"0.00 0.00 717.00 368.00\" width=\"717pt\" xmlns=\"http://www.w3.org/2000/svg\" xmlns:xlink=\"http://www.w3.org/1999/xlink\">\n",
       "<g class=\"graph\" id=\"graph0\" transform=\"scale(1 1) rotate(0) translate(4 364)\">\n",
       "<title>G</title>\n",
       "<polygon fill=\"white\" points=\"-4,4 -4,-364 713,-364 713,4 -4,4\" stroke=\"none\"/>\n",
       "<!-- 140453372408848 -->\n",
       "<g class=\"node\" id=\"node1\"><title>140453372408848</title>\n",
       "<ellipse cx=\"595\" cy=\"-268\" fill=\"red\" rx=\"61.6163\" ry=\"18\" stroke=\"black\"/>\n",
       "<text font-family=\"Times,serif\" font-size=\"14.00\" text-anchor=\"middle\" x=\"595\" y=\"-264.3\">GpuFromHost</text>\n",
       "</g>\n",
       "<!-- 140453372588752 -->\n",
       "<g class=\"node\" id=\"node3\"><title>140453372588752</title>\n",
       "<ellipse cx=\"391\" cy=\"-180\" fill=\"#ffaabb\" rx=\"210.372\" ry=\"18\" stroke=\"black\"/>\n",
       "<text font-family=\"Times,serif\" font-size=\"14.00\" text-anchor=\"middle\" x=\"391\" y=\"-176.3\">GpuElemwise{Composite{(i0 + (i1 * sqr(i2)))}}[(0, 2)]</text>\n",
       "</g>\n",
       "<!-- 140453372408848&#45;&gt;140453372588752 -->\n",
       "<g class=\"edge\" id=\"edge4\"><title>140453372408848-&gt;140453372588752</title>\n",
       "<path d=\"M561.314,-252.799C528.242,-238.857 477.439,-217.44 439.919,-201.623\" fill=\"none\" stroke=\"red\"/>\n",
       "<polygon fill=\"red\" points=\"441.259,-198.389 430.685,-197.73 438.54,-204.84 441.259,-198.389\" stroke=\"red\"/>\n",
       "<text font-family=\"Times,serif\" font-size=\"14.00\" text-anchor=\"middle\" x=\"610\" y=\"-220.3\">2 CudaNdarrayType(float32, scalar)</text>\n",
       "</g>\n",
       "<!-- 140453372410960 -->\n",
       "<g class=\"node\" id=\"node2\"><title>140453372410960</title>\n",
       "<polygon fill=\"green\" points=\"678.5,-360 511.5,-360 511.5,-324 678.5,-324 678.5,-360\" stroke=\"black\"/>\n",
       "<text font-family=\"Times,serif\" font-size=\"14.00\" text-anchor=\"middle\" x=\"595\" y=\"-338.3\">TensorType(float32, scalar)</text>\n",
       "</g>\n",
       "<!-- 140453372410960&#45;&gt;140453372408848 -->\n",
       "<g class=\"edge\" id=\"edge1\"><title>140453372410960-&gt;140453372408848</title>\n",
       "<path d=\"M595,-323.937C595,-315.807 595,-305.876 595,-296.705\" fill=\"none\" stroke=\"black\"/>\n",
       "<polygon fill=\"black\" points=\"598.5,-296.441 595,-286.441 591.5,-296.441 598.5,-296.441\" stroke=\"black\"/>\n",
       "</g>\n",
       "<!-- 140453372505680 -->\n",
       "<g class=\"node\" id=\"node6\"><title>140453372505680</title>\n",
       "<ellipse cx=\"391\" cy=\"-92\" fill=\"red\" rx=\"61.6163\" ry=\"18\" stroke=\"black\"/>\n",
       "<text font-family=\"Times,serif\" font-size=\"14.00\" text-anchor=\"middle\" x=\"391\" y=\"-88.3\">HostFromGpu</text>\n",
       "</g>\n",
       "<!-- 140453372588752&#45;&gt;140453372505680 -->\n",
       "<g class=\"edge\" id=\"edge5\"><title>140453372588752-&gt;140453372505680</title>\n",
       "<path d=\"M391,-161.597C391,-149.746 391,-133.817 391,-120.292\" fill=\"none\" stroke=\"black\"/>\n",
       "<polygon fill=\"black\" points=\"394.5,-120.084 391,-110.084 387.5,-120.084 394.5,-120.084\" stroke=\"black\"/>\n",
       "<text font-family=\"Times,serif\" font-size=\"14.00\" text-anchor=\"middle\" x=\"484.5\" y=\"-132.3\">CudaNdarrayType(float32, scalar)</text>\n",
       "</g>\n",
       "<!-- 140453372588112 -->\n",
       "<g class=\"node\" id=\"node4\"><title>140453372588112</title>\n",
       "<polygon fill=\"green\" points=\"248.25,-286 -0.25,-286 -0.25,-250 248.25,-250 248.25,-286\" stroke=\"black\"/>\n",
       "<text font-family=\"Times,serif\" font-size=\"14.00\" text-anchor=\"middle\" x=\"124\" y=\"-264.3\">val=1.0 CudaNdarrayType(float32, scalar)</text>\n",
       "</g>\n",
       "<!-- 140453372588112&#45;&gt;140453372588752 -->\n",
       "<g class=\"edge\" id=\"edge2\"><title>140453372588112-&gt;140453372588752</title>\n",
       "<path d=\"M177.07,-249.906C221.226,-235.684 284.098,-215.433 330.26,-200.564\" fill=\"none\" stroke=\"black\"/>\n",
       "<polygon fill=\"black\" points=\"331.398,-203.875 339.844,-197.477 329.252,-197.212 331.398,-203.875\" stroke=\"black\"/>\n",
       "<text font-family=\"Times,serif\" font-size=\"14.00\" text-anchor=\"middle\" x=\"284.5\" y=\"-220.3\">0</text>\n",
       "</g>\n",
       "<!-- 140453372504592 -->\n",
       "<g class=\"node\" id=\"node5\"><title>140453372504592</title>\n",
       "<polygon fill=\"green\" points=\"515.25,-286 266.75,-286 266.75,-250 515.25,-250 515.25,-286\" stroke=\"black\"/>\n",
       "<text font-family=\"Times,serif\" font-size=\"14.00\" text-anchor=\"middle\" x=\"391\" y=\"-264.3\">val=3.0 CudaNdarrayType(float32, scalar)</text>\n",
       "</g>\n",
       "<!-- 140453372504592&#45;&gt;140453372588752 -->\n",
       "<g class=\"edge\" id=\"edge3\"><title>140453372504592-&gt;140453372588752</title>\n",
       "<path d=\"M391,-249.597C391,-237.746 391,-221.817 391,-208.292\" fill=\"none\" stroke=\"black\"/>\n",
       "<polygon fill=\"black\" points=\"394.5,-208.084 391,-198.084 387.5,-208.084 394.5,-208.084\" stroke=\"black\"/>\n",
       "<text font-family=\"Times,serif\" font-size=\"14.00\" text-anchor=\"middle\" x=\"394.5\" y=\"-220.3\">1</text>\n",
       "</g>\n",
       "<!-- 140453372505616 -->\n",
       "<g class=\"node\" id=\"node7\"><title>140453372505616</title>\n",
       "<polygon fill=\"blue\" points=\"474.5,-36 307.5,-36 307.5,-0 474.5,-0 474.5,-36\" stroke=\"black\"/>\n",
       "<text font-family=\"Times,serif\" font-size=\"14.00\" text-anchor=\"middle\" x=\"391\" y=\"-14.3\">TensorType(float32, scalar)</text>\n",
       "</g>\n",
       "<!-- 140453372505680&#45;&gt;140453372505616 -->\n",
       "<g class=\"edge\" id=\"edge6\"><title>140453372505680-&gt;140453372505616</title>\n",
       "<path d=\"M391,-73.937C391,-65.8072 391,-55.8761 391,-46.7047\" fill=\"none\" stroke=\"black\"/>\n",
       "<polygon fill=\"black\" points=\"394.5,-46.4406 391,-36.4407 387.5,-46.4407 394.5,-46.4406\" stroke=\"black\"/>\n",
       "</g>\n",
       "</g>\n",
       "</svg>"
      ],
      "text/plain": [
       "<IPython.core.display.SVG object>"
      ]
     },
     "execution_count": 29,
     "metadata": {},
     "output_type": "execute_result"
    }
   ],
   "source": [
    "viz(f)"
   ]
  },
  {
   "cell_type": "code",
   "execution_count": 31,
   "metadata": {
    "collapsed": false
   },
   "outputs": [
    {
     "data": {
      "image/svg+xml": [
       "<svg height=\"382pt\" viewBox=\"0.00 0.00 670.00 382.00\" width=\"670pt\" xmlns=\"http://www.w3.org/2000/svg\" xmlns:xlink=\"http://www.w3.org/1999/xlink\">\n",
       "<g class=\"graph\" id=\"graph0\" transform=\"scale(1 1) rotate(0) translate(4 378)\">\n",
       "<title>G</title>\n",
       "<polygon fill=\"white\" points=\"-4,4 -4,-378 666,-378 666,4 -4,4\" stroke=\"none\"/>\n",
       "<!-- 140453370639888 -->\n",
       "<g class=\"node\" id=\"node1\"><title>140453370639888</title>\n",
       "<ellipse cx=\"472\" cy=\"-268\" fill=\"#ffaabb\" rx=\"110.235\" ry=\"18\" stroke=\"black\"/>\n",
       "<text font-family=\"Times,serif\" font-size=\"14.00\" text-anchor=\"middle\" x=\"472\" y=\"-264.3\">Elemwise{pow,no_inplace}</text>\n",
       "</g>\n",
       "<!-- 140453370642320 -->\n",
       "<g class=\"node\" id=\"node4\"><title>140453370642320</title>\n",
       "<ellipse cx=\"314\" cy=\"-180\" fill=\"#ffaabb\" rx=\"109.261\" ry=\"18\" stroke=\"black\"/>\n",
       "<text font-family=\"Times,serif\" font-size=\"14.00\" text-anchor=\"middle\" x=\"314\" y=\"-176.3\">Elemwise{mul,no_inplace}</text>\n",
       "</g>\n",
       "<!-- 140453370639888&#45;&gt;140453370642320 -->\n",
       "<g class=\"edge\" id=\"edge4\"><title>140453370639888-&gt;140453370642320</title>\n",
       "<path d=\"M441.91,-250.622C416.651,-236.873 380.394,-217.139 352.928,-202.188\" fill=\"none\" stroke=\"black\"/>\n",
       "<polygon fill=\"black\" points=\"354.435,-199.024 343.978,-197.317 351.088,-205.172 354.435,-199.024\" stroke=\"black\"/>\n",
       "<text font-family=\"Times,serif\" font-size=\"14.00\" text-anchor=\"middle\" x=\"488.5\" y=\"-220.3\">1 TensorType(float32, scalar)</text>\n",
       "</g>\n",
       "<!-- 140453372410000 -->\n",
       "<g class=\"node\" id=\"node2\"><title>140453372410000</title>\n",
       "<polygon fill=\"green\" points=\"457.5,-374 290.5,-374 290.5,-338 457.5,-338 457.5,-374\" stroke=\"black\"/>\n",
       "<text font-family=\"Times,serif\" font-size=\"14.00\" text-anchor=\"middle\" x=\"374\" y=\"-352.3\">TensorType(float32, scalar)</text>\n",
       "</g>\n",
       "<!-- 140453372410000&#45;&gt;140453370639888 -->\n",
       "<g class=\"edge\" id=\"edge1\"><title>140453372410000-&gt;140453370639888</title>\n",
       "<path d=\"M393.832,-337.597C408.636,-324.605 429.024,-306.714 445.267,-292.46\" fill=\"none\" stroke=\"black\"/>\n",
       "<polygon fill=\"black\" points=\"447.657,-295.019 452.865,-285.792 443.04,-289.757 447.657,-295.019\" stroke=\"black\"/>\n",
       "<text font-family=\"Times,serif\" font-size=\"14.00\" text-anchor=\"middle\" x=\"434.5\" y=\"-308.3\">0</text>\n",
       "</g>\n",
       "<!-- 140453370639376 -->\n",
       "<g class=\"node\" id=\"node3\"><title>140453370639376</title>\n",
       "<polygon fill=\"green\" points=\"661.5,-374 476.5,-374 476.5,-338 661.5,-338 661.5,-374\" stroke=\"black\"/>\n",
       "<text font-family=\"Times,serif\" font-size=\"14.00\" text-anchor=\"middle\" x=\"569\" y=\"-352.3\">val=2 TensorType(int8, scalar)</text>\n",
       "</g>\n",
       "<!-- 140453370639376&#45;&gt;140453370639888 -->\n",
       "<g class=\"edge\" id=\"edge2\"><title>140453370639376-&gt;140453370639888</title>\n",
       "<path d=\"M549.371,-337.597C534.718,-324.605 514.537,-306.714 498.46,-292.46\" fill=\"none\" stroke=\"black\"/>\n",
       "<polygon fill=\"black\" points=\"500.745,-289.807 490.94,-285.792 496.101,-295.045 500.745,-289.807\" stroke=\"black\"/>\n",
       "<text font-family=\"Times,serif\" font-size=\"14.00\" text-anchor=\"middle\" x=\"532.5\" y=\"-308.3\">1</text>\n",
       "</g>\n",
       "<!-- 140453370641232 -->\n",
       "<g class=\"node\" id=\"node6\"><title>140453370641232</title>\n",
       "<ellipse cx=\"155\" cy=\"-92\" fill=\"#ffaabb\" rx=\"108.31\" ry=\"18\" stroke=\"black\"/>\n",
       "<text font-family=\"Times,serif\" font-size=\"14.00\" text-anchor=\"middle\" x=\"155\" y=\"-88.3\">Elemwise{add,no_inplace}</text>\n",
       "</g>\n",
       "<!-- 140453370642320&#45;&gt;140453370641232 -->\n",
       "<g class=\"edge\" id=\"edge5\"><title>140453370642320-&gt;140453370641232</title>\n",
       "<path d=\"M283.719,-162.622C258.3,-148.873 221.814,-129.139 194.174,-114.188\" fill=\"none\" stroke=\"black\"/>\n",
       "<polygon fill=\"black\" points=\"195.629,-110.996 185.168,-109.317 192.299,-117.153 195.629,-110.996\" stroke=\"black\"/>\n",
       "<text font-family=\"Times,serif\" font-size=\"14.00\" text-anchor=\"middle\" x=\"329.5\" y=\"-132.3\">0 TensorType(float32, scalar)</text>\n",
       "</g>\n",
       "<!-- 140453370641616 -->\n",
       "<g class=\"node\" id=\"node5\"><title>140453370641616</title>\n",
       "<polygon fill=\"green\" points=\"343.5,-286 158.5,-286 158.5,-250 343.5,-250 343.5,-286\" stroke=\"black\"/>\n",
       "<text font-family=\"Times,serif\" font-size=\"14.00\" text-anchor=\"middle\" x=\"251\" y=\"-264.3\">val=3 TensorType(int8, scalar)</text>\n",
       "</g>\n",
       "<!-- 140453370641616&#45;&gt;140453370642320 -->\n",
       "<g class=\"edge\" id=\"edge3\"><title>140453370641616-&gt;140453370642320</title>\n",
       "<path d=\"M263.749,-249.597C272.86,-237.159 285.262,-220.23 295.465,-206.302\" fill=\"none\" stroke=\"black\"/>\n",
       "<polygon fill=\"black\" points=\"298.399,-208.219 301.485,-198.084 292.752,-204.083 298.399,-208.219\" stroke=\"black\"/>\n",
       "<text font-family=\"Times,serif\" font-size=\"14.00\" text-anchor=\"middle\" x=\"291.5\" y=\"-220.3\">0</text>\n",
       "</g>\n",
       "<!-- 140453370641808 -->\n",
       "<g class=\"node\" id=\"node8\"><title>140453370641808</title>\n",
       "<polygon fill=\"blue\" points=\"238.5,-36 71.5,-36 71.5,-0 238.5,-0 238.5,-36\" stroke=\"black\"/>\n",
       "<text font-family=\"Times,serif\" font-size=\"14.00\" text-anchor=\"middle\" x=\"155\" y=\"-14.3\">TensorType(float32, scalar)</text>\n",
       "</g>\n",
       "<!-- 140453370641232&#45;&gt;140453370641808 -->\n",
       "<g class=\"edge\" id=\"edge7\"><title>140453370641232-&gt;140453370641808</title>\n",
       "<path d=\"M155,-73.937C155,-65.8072 155,-55.8761 155,-46.7047\" fill=\"none\" stroke=\"black\"/>\n",
       "<polygon fill=\"black\" points=\"158.5,-46.4406 155,-36.4407 151.5,-46.4407 158.5,-46.4406\" stroke=\"black\"/>\n",
       "</g>\n",
       "<!-- 140453370638864 -->\n",
       "<g class=\"node\" id=\"node7\"><title>140453370638864</title>\n",
       "<polygon fill=\"green\" points=\"185.5,-198 0.5,-198 0.5,-162 185.5,-162 185.5,-198\" stroke=\"black\"/>\n",
       "<text font-family=\"Times,serif\" font-size=\"14.00\" text-anchor=\"middle\" x=\"93\" y=\"-176.3\">val=1 TensorType(int8, scalar)</text>\n",
       "</g>\n",
       "<!-- 140453370638864&#45;&gt;140453370641232 -->\n",
       "<g class=\"edge\" id=\"edge6\"><title>140453370638864-&gt;140453370641232</title>\n",
       "<path d=\"M105.547,-161.597C114.513,-149.159 126.718,-132.23 136.759,-118.302\" fill=\"none\" stroke=\"black\"/>\n",
       "<polygon fill=\"black\" points=\"139.675,-120.243 142.684,-110.084 133.996,-116.149 139.675,-120.243\" stroke=\"black\"/>\n",
       "<text font-family=\"Times,serif\" font-size=\"14.00\" text-anchor=\"middle\" x=\"133.5\" y=\"-132.3\">1</text>\n",
       "</g>\n",
       "</g>\n",
       "</svg>"
      ],
      "text/plain": [
       "<IPython.core.display.SVG object>"
      ]
     },
     "execution_count": 31,
     "metadata": {},
     "output_type": "execute_result"
    }
   ],
   "source": [
    "viz(y)"
   ]
  },
  {
   "cell_type": "code",
   "execution_count": 55,
   "metadata": {
    "collapsed": false
   },
   "outputs": [
    {
     "data": {
      "image/svg+xml": [
       "<svg height=\"206pt\" viewBox=\"0.00 0.00 180.00 206.00\" width=\"180pt\" xmlns=\"http://www.w3.org/2000/svg\" xmlns:xlink=\"http://www.w3.org/1999/xlink\">\n",
       "<g class=\"graph\" id=\"graph0\" transform=\"scale(1 1) rotate(0) translate(4 202)\">\n",
       "<title>G</title>\n",
       "<polygon fill=\"white\" points=\"-4,4 -4,-202 176,-202 176,4 -4,4\" stroke=\"none\"/>\n",
       "<!-- 140453370980944 -->\n",
       "<g class=\"node\" id=\"node1\"><title>140453370980944</title>\n",
       "<ellipse cx=\"86\" cy=\"-92\" fill=\"none\" rx=\"27\" ry=\"18\" stroke=\"black\"/>\n",
       "<text font-family=\"Times,serif\" font-size=\"14.00\" text-anchor=\"middle\" x=\"86\" y=\"-88.3\">dot</text>\n",
       "</g>\n",
       "<!-- 140453370980432 -->\n",
       "<g class=\"node\" id=\"node3\"><title>140453370980432</title>\n",
       "<polygon fill=\"blue\" points=\"172.25,-36 -0.25,-36 -0.25,-0 172.25,-0 172.25,-36\" stroke=\"black\"/>\n",
       "<text font-family=\"Times,serif\" font-size=\"14.00\" text-anchor=\"middle\" x=\"86\" y=\"-14.3\">TensorType(float32, matrix)</text>\n",
       "</g>\n",
       "<!-- 140453370980944&#45;&gt;140453370980432 -->\n",
       "<g class=\"edge\" id=\"edge3\"><title>140453370980944-&gt;140453370980432</title>\n",
       "<path d=\"M86,-73.937C86,-65.8072 86,-55.8761 86,-46.7047\" fill=\"none\" stroke=\"black\"/>\n",
       "<polygon fill=\"black\" points=\"89.5001,-46.4406 86,-36.4407 82.5001,-46.4407 89.5001,-46.4406\" stroke=\"black\"/>\n",
       "</g>\n",
       "<!-- 140453370982352 -->\n",
       "<g class=\"node\" id=\"node2\"><title>140453370982352</title>\n",
       "<polygon fill=\"green\" points=\"172.25,-198 -0.25,-198 -0.25,-162 172.25,-162 172.25,-198\" stroke=\"black\"/>\n",
       "<text font-family=\"Times,serif\" font-size=\"14.00\" text-anchor=\"middle\" x=\"86\" y=\"-176.3\">TensorType(float32, matrix)</text>\n",
       "</g>\n",
       "<!-- 140453370982352&#45;&gt;140453370980944 -->\n",
       "<g class=\"edge\" id=\"edge1\"><title>140453370982352-&gt;140453370980944</title>\n",
       "<path d=\"M78.8582,-161.847C76.8743,-156.257 74.9927,-149.956 74,-144 72.8309,-136.986 72.8309,-135.014 74,-128 74.4851,-125.089 75.1825,-122.096 76.0004,-119.144\" fill=\"none\" stroke=\"black\"/>\n",
       "<polygon fill=\"black\" points=\"79.3903,-120.035 79.1119,-109.444 72.7248,-117.897 79.3903,-120.035\" stroke=\"black\"/>\n",
       "<text font-family=\"Times,serif\" font-size=\"14.00\" text-anchor=\"middle\" x=\"77.5\" y=\"-132.3\">0</text>\n",
       "</g>\n",
       "<!-- 140453370982352&#45;&gt;140453370980944 -->\n",
       "<g class=\"edge\" id=\"edge2\"><title>140453370982352-&gt;140453370980944</title>\n",
       "<path d=\"M86,-161.597C86,-149.746 86,-133.817 86,-120.292\" fill=\"none\" stroke=\"black\"/>\n",
       "<polygon fill=\"black\" points=\"89.5001,-120.084 86,-110.084 82.5001,-120.084 89.5001,-120.084\" stroke=\"black\"/>\n",
       "<text font-family=\"Times,serif\" font-size=\"14.00\" text-anchor=\"middle\" x=\"89.5\" y=\"-132.3\">1</text>\n",
       "</g>\n",
       "</g>\n",
       "</svg>"
      ],
      "text/plain": [
       "<IPython.core.display.SVG object>"
      ]
     },
     "execution_count": 55,
     "metadata": {},
     "output_type": "execute_result"
    }
   ],
   "source": [
    "tX = T.matrix()\n",
    "op = T.dot(tX,tX)\n",
    "viz(op)"
   ]
  },
  {
   "cell_type": "code",
   "execution_count": 36,
   "metadata": {
    "collapsed": false
   },
   "outputs": [
    {
     "data": {
      "image/svg+xml": [
       "<svg height=\"564pt\" viewBox=\"0.00 0.00 972.00 564.00\" width=\"972pt\" xmlns=\"http://www.w3.org/2000/svg\" xmlns:xlink=\"http://www.w3.org/1999/xlink\">\n",
       "<g class=\"graph\" id=\"graph0\" transform=\"scale(1 1) rotate(0) translate(4 560)\">\n",
       "<title>G</title>\n",
       "<polygon fill=\"white\" points=\"-4,4 -4,-560 968,-560 968,4 -4,4\" stroke=\"none\"/>\n",
       "<!-- 140453373350672 -->\n",
       "<g class=\"node\" id=\"node1\"><title>140453373350672</title>\n",
       "<ellipse cx=\"739\" cy=\"-410\" fill=\"red\" rx=\"61.6163\" ry=\"18\" stroke=\"black\"/>\n",
       "<text font-family=\"Times,serif\" font-size=\"14.00\" text-anchor=\"middle\" x=\"739\" y=\"-406.3\">GpuFromHost</text>\n",
       "</g>\n",
       "<!-- 140453371801808 -->\n",
       "<g class=\"node\" id=\"node5\"><title>140453371801808</title>\n",
       "<ellipse cx=\"607\" cy=\"-268\" fill=\"none\" rx=\"68.3417\" ry=\"18\" stroke=\"black\"/>\n",
       "<text font-family=\"Times,serif\" font-size=\"14.00\" text-anchor=\"middle\" x=\"607\" y=\"-264.3\">GpuReshape{1}</text>\n",
       "</g>\n",
       "<!-- 140453373350672&#45;&gt;140453371801808 -->\n",
       "<g class=\"edge\" id=\"edge4\"><title>140453373350672-&gt;140453371801808</title>\n",
       "<path d=\"M735.397,-392.021C731.459,-376.626 723.919,-353.966 711,-338 694.184,-317.219 669.421,-300.442 648.277,-288.636\" fill=\"none\" stroke=\"blue\"/>\n",
       "<polygon fill=\"blue\" points=\"649.933,-285.553 639.471,-283.884 646.609,-291.713 649.933,-285.553\" stroke=\"blue\"/>\n",
       "<text font-family=\"Times,serif\" font-size=\"14.00\" text-anchor=\"middle\" x=\"831\" y=\"-352.3\">0 CudaNdarrayType(float32, matrix)</text>\n",
       "</g>\n",
       "<!-- 140453370541904 -->\n",
       "<g class=\"node\" id=\"node2\"><title>140453370541904</title>\n",
       "<polygon fill=\"green\" points=\"606.25,-556 433.75,-556 433.75,-520 606.25,-520 606.25,-556\" stroke=\"black\"/>\n",
       "<text font-family=\"Times,serif\" font-size=\"14.00\" text-anchor=\"middle\" x=\"520\" y=\"-534.3\">TensorType(float32, matrix)</text>\n",
       "</g>\n",
       "<!-- 140453370541904&#45;&gt;140453373350672 -->\n",
       "<g class=\"edge\" id=\"edge1\"><title>140453370541904-&gt;140453373350672</title>\n",
       "<path d=\"M549.992,-519.744C590.045,-496.7 660.892,-455.939 703.543,-431.4\" fill=\"none\" stroke=\"black\"/>\n",
       "<polygon fill=\"black\" points=\"705.531,-434.294 712.453,-426.274 702.04,-428.227 705.531,-434.294\" stroke=\"black\"/>\n",
       "</g>\n",
       "<!-- 140453370544016 -->\n",
       "<g class=\"node\" id=\"node3\"><title>140453370544016</title>\n",
       "<ellipse cx=\"372\" cy=\"-464\" fill=\"brown\" rx=\"51.4931\" ry=\"18\" stroke=\"black\"/>\n",
       "<text font-family=\"Times,serif\" font-size=\"14.00\" text-anchor=\"middle\" x=\"372\" y=\"-460.3\">Shape_i{1}</text>\n",
       "</g>\n",
       "<!-- 140453370541904&#45;&gt;140453370544016 -->\n",
       "<g class=\"edge\" id=\"edge2\"><title>140453370541904-&gt;140453370544016</title>\n",
       "<path d=\"M484.926,-519.937C462.387,-508.972 433.114,-494.731 410.02,-483.496\" fill=\"none\" stroke=\"black\"/>\n",
       "<polygon fill=\"black\" points=\"411.383,-480.267 400.86,-479.04 408.321,-486.562 411.383,-480.267\" stroke=\"black\"/>\n",
       "</g>\n",
       "<!-- 140453370541072 -->\n",
       "<g class=\"node\" id=\"node4\"><title>140453370541072</title>\n",
       "<ellipse cx=\"520\" cy=\"-464\" fill=\"brown\" rx=\"51.4931\" ry=\"18\" stroke=\"black\"/>\n",
       "<text font-family=\"Times,serif\" font-size=\"14.00\" text-anchor=\"middle\" x=\"520\" y=\"-460.3\">Shape_i{0}</text>\n",
       "</g>\n",
       "<!-- 140453370541904&#45;&gt;140453370541072 -->\n",
       "<g class=\"edge\" id=\"edge3\"><title>140453370541904-&gt;140453370541072</title>\n",
       "<path d=\"M520,-519.937C520,-511.807 520,-501.876 520,-492.705\" fill=\"none\" stroke=\"black\"/>\n",
       "<polygon fill=\"black\" points=\"523.5,-492.441 520,-482.441 516.5,-492.441 523.5,-492.441\" stroke=\"black\"/>\n",
       "</g>\n",
       "<!-- 140453373353552 -->\n",
       "<g class=\"node\" id=\"node7\"><title>140453373353552</title>\n",
       "<ellipse cx=\"361\" cy=\"-356\" fill=\"#ffaabb\" rx=\"94.338\" ry=\"18\" stroke=\"black\"/>\n",
       "<text font-family=\"Times,serif\" font-size=\"14.00\" text-anchor=\"middle\" x=\"361\" y=\"-352.3\">Elemwise{Mul}[(0, 0)]</text>\n",
       "</g>\n",
       "<!-- 140453370544016&#45;&gt;140453373353552 -->\n",
       "<g class=\"edge\" id=\"edge7\"><title>140453370544016-&gt;140453373353552</title>\n",
       "<path d=\"M356.627,-446.807C352.334,-441.269 348.235,-434.755 346,-428 340.975,-412.81 342.783,-407.673 346,-392 346.586,-389.147 347.414,-386.238 348.384,-383.379\" fill=\"none\" stroke=\"black\"/>\n",
       "<polygon fill=\"black\" points=\"351.672,-384.582 352.083,-373.996 345.16,-382.016 351.672,-384.582\" stroke=\"black\"/>\n",
       "<text font-family=\"Times,serif\" font-size=\"14.00\" text-anchor=\"middle\" x=\"422\" y=\"-406.3\">1 TensorType(int64, scalar)</text>\n",
       "</g>\n",
       "<!-- 140453370541072&#45;&gt;140453373353552 -->\n",
       "<g class=\"edge\" id=\"edge6\"><title>140453370541072-&gt;140453373353552</title>\n",
       "<path d=\"M516.703,-445.915C512.792,-427.377 505.809,-399.425 498,-392 485.993,-380.583 470.795,-372.753 454.923,-367.413\" fill=\"none\" stroke=\"red\"/>\n",
       "<polygon fill=\"red\" points=\"455.56,-363.949 444.975,-364.4 453.531,-370.648 455.56,-363.949\" stroke=\"red\"/>\n",
       "<text font-family=\"Times,serif\" font-size=\"14.00\" text-anchor=\"middle\" x=\"589\" y=\"-406.3\">0 TensorType(int64, scalar)</text>\n",
       "</g>\n",
       "<!-- 140453373352464 -->\n",
       "<g class=\"node\" id=\"node10\"><title>140453373352464</title>\n",
       "<ellipse cx=\"522\" cy=\"-180\" fill=\"none\" rx=\"73.1654\" ry=\"18\" stroke=\"black\"/>\n",
       "<text font-family=\"Times,serif\" font-size=\"14.00\" text-anchor=\"middle\" x=\"522\" y=\"-176.3\">GpuGer{inplace}</text>\n",
       "</g>\n",
       "<!-- 140453371801808&#45;&gt;140453373352464 -->\n",
       "<g class=\"edge\" id=\"edge13\"><title>140453371801808-&gt;140453373352464</title>\n",
       "<path d=\"M540.125,-263.934C490.32,-260.082 428.248,-251.424 412,-232 395.426,-212.186 420.019,-199.649 450.12,-191.965\" fill=\"none\" stroke=\"black\"/>\n",
       "<polygon fill=\"black\" points=\"451.105,-195.329 460.042,-189.638 449.507,-188.514 451.105,-195.329\" stroke=\"black\"/>\n",
       "<text font-family=\"Times,serif\" font-size=\"14.00\" text-anchor=\"middle\" x=\"512\" y=\"-220.3\">2 CudaNdarrayType(float32, vector)</text>\n",
       "</g>\n",
       "<!-- 140453371801808&#45;&gt;140453373352464 -->\n",
       "<g class=\"edge\" id=\"edge14\"><title>140453371801808-&gt;140453373352464</title>\n",
       "<path d=\"M613.91,-249.996C617.045,-239.352 618.731,-225.84 612,-216 606.046,-207.297 597.585,-200.757 588.208,-195.844\" fill=\"none\" stroke=\"black\"/>\n",
       "<polygon fill=\"black\" points=\"589.538,-192.603 578.989,-191.614 586.618,-198.965 589.538,-192.603\" stroke=\"black\"/>\n",
       "<text font-family=\"Times,serif\" font-size=\"14.00\" text-anchor=\"middle\" x=\"717\" y=\"-220.3\">3 CudaNdarrayType(float32, vector)</text>\n",
       "</g>\n",
       "<!-- 140453370542032 -->\n",
       "<g class=\"node\" id=\"node6\"><title>140453370542032</title>\n",
       "<polygon fill=\"green\" points=\"702.25,-374 489.75,-374 489.75,-338 702.25,-338 702.25,-374\" stroke=\"black\"/>\n",
       "<text font-family=\"Times,serif\" font-size=\"14.00\" text-anchor=\"middle\" x=\"596\" y=\"-352.3\">val=[-1] TensorType(int64, (True,))</text>\n",
       "</g>\n",
       "<!-- 140453370542032&#45;&gt;140453371801808 -->\n",
       "<g class=\"edge\" id=\"edge5\"><title>140453370542032-&gt;140453371801808</title>\n",
       "<path d=\"M598.226,-337.597C599.742,-325.746 601.779,-309.817 603.509,-296.292\" fill=\"none\" stroke=\"black\"/>\n",
       "<polygon fill=\"black\" points=\"607.018,-296.447 604.815,-286.084 600.074,-295.559 607.018,-296.447\" stroke=\"black\"/>\n",
       "<text font-family=\"Times,serif\" font-size=\"14.00\" text-anchor=\"middle\" x=\"606.5\" y=\"-308.3\">1</text>\n",
       "</g>\n",
       "<!-- 140453371805328 -->\n",
       "<g class=\"node\" id=\"node8\"><title>140453371805328</title>\n",
       "<ellipse cx=\"186\" cy=\"-268\" fill=\"#ffaa22\" rx=\"113.135\" ry=\"18\" stroke=\"black\"/>\n",
       "<text font-family=\"Times,serif\" font-size=\"14.00\" text-anchor=\"middle\" x=\"186\" y=\"-264.3\">GpuAlloc{memset_0=True}</text>\n",
       "</g>\n",
       "<!-- 140453373353552&#45;&gt;140453371805328 -->\n",
       "<g class=\"edge\" id=\"edge9\"><title>140453373353552-&gt;140453371805328</title>\n",
       "<path d=\"M293.25,-343.383C245.927,-334.945 190.581,-324.286 187,-320 181.51,-313.429 180.025,-304.546 180.302,-296.036\" fill=\"none\" stroke=\"black\"/>\n",
       "<polygon fill=\"black\" points=\"183.79,-296.333 181.363,-286.02 176.829,-295.595 183.79,-296.333\" stroke=\"black\"/>\n",
       "<text font-family=\"Times,serif\" font-size=\"14.00\" text-anchor=\"middle\" x=\"263\" y=\"-308.3\">1 TensorType(int64, scalar)</text>\n",
       "</g>\n",
       "<!-- 140453373353552&#45;&gt;140453371805328 -->\n",
       "<g class=\"edge\" id=\"edge10\"><title>140453373353552-&gt;140453371805328</title>\n",
       "<path d=\"M357.805,-337.909C354.821,-326.669 349.227,-312.514 339,-304 325.87,-293.07 309.995,-285.395 293.506,-280.035\" fill=\"none\" stroke=\"black\"/>\n",
       "<polygon fill=\"black\" points=\"294.326,-276.627 283.743,-277.14 292.336,-283.339 294.326,-276.627\" stroke=\"black\"/>\n",
       "<text font-family=\"Times,serif\" font-size=\"14.00\" text-anchor=\"middle\" x=\"427\" y=\"-308.3\">2 TensorType(int64, scalar)</text>\n",
       "</g>\n",
       "<!-- 140453371805328&#45;&gt;140453373352464 -->\n",
       "<g class=\"edge\" id=\"edge11\"><title>140453371805328-&gt;140453373352464</title>\n",
       "<path d=\"M186.397,-249.691C187.636,-238.354 191.232,-224.173 201,-216 219.087,-200.868 352.077,-190.507 441.108,-185.183\" fill=\"none\" stroke=\"red\"/>\n",
       "<polygon fill=\"red\" points=\"441.419,-188.671 451.197,-184.59 441.009,-181.683 441.419,-188.671\" stroke=\"red\"/>\n",
       "<text font-family=\"Times,serif\" font-size=\"14.00\" text-anchor=\"middle\" x=\"302\" y=\"-220.3\">0 CudaNdarrayType(float32, matrix)</text>\n",
       "</g>\n",
       "<!-- 140453371804944 -->\n",
       "<g class=\"node\" id=\"node9\"><title>140453371804944</title>\n",
       "<polygon fill=\"green\" points=\"248.25,-374 -0.25,-374 -0.25,-338 248.25,-338 248.25,-374\" stroke=\"black\"/>\n",
       "<text font-family=\"Times,serif\" font-size=\"14.00\" text-anchor=\"middle\" x=\"124\" y=\"-352.3\">val=0.0 CudaNdarrayType(float32, scalar)</text>\n",
       "</g>\n",
       "<!-- 140453371804944&#45;&gt;140453371805328 -->\n",
       "<g class=\"edge\" id=\"edge8\"><title>140453371804944-&gt;140453371805328</title>\n",
       "<path d=\"M134.51,-337.662C140.763,-327.633 149.013,-314.883 157,-304 159.4,-300.73 162.006,-297.361 164.637,-294.066\" fill=\"none\" stroke=\"black\"/>\n",
       "<polygon fill=\"black\" points=\"167.511,-296.082 171.131,-286.124 162.092,-291.651 167.511,-296.082\" stroke=\"black\"/>\n",
       "<text font-family=\"Times,serif\" font-size=\"14.00\" text-anchor=\"middle\" x=\"160.5\" y=\"-308.3\">0</text>\n",
       "</g>\n",
       "<!-- 140453371803152 -->\n",
       "<g class=\"node\" id=\"node12\"><title>140453371803152</title>\n",
       "<ellipse cx=\"522\" cy=\"-92\" fill=\"red\" rx=\"61.6163\" ry=\"18\" stroke=\"black\"/>\n",
       "<text font-family=\"Times,serif\" font-size=\"14.00\" text-anchor=\"middle\" x=\"522\" y=\"-88.3\">HostFromGpu</text>\n",
       "</g>\n",
       "<!-- 140453373352464&#45;&gt;140453371803152 -->\n",
       "<g class=\"edge\" id=\"edge15\"><title>140453373352464-&gt;140453371803152</title>\n",
       "<path d=\"M522,-161.597C522,-149.746 522,-133.817 522,-120.292\" fill=\"none\" stroke=\"black\"/>\n",
       "<polygon fill=\"black\" points=\"525.5,-120.084 522,-110.084 518.5,-120.084 525.5,-120.084\" stroke=\"black\"/>\n",
       "<text font-family=\"Times,serif\" font-size=\"14.00\" text-anchor=\"middle\" x=\"618\" y=\"-132.3\">CudaNdarrayType(float32, matrix)</text>\n",
       "</g>\n",
       "<!-- 140453370864464 -->\n",
       "<g class=\"node\" id=\"node11\"><title>140453370864464</title>\n",
       "<polygon fill=\"green\" points=\"963.5,-286 750.5,-286 750.5,-250 963.5,-250 963.5,-286\" stroke=\"black\"/>\n",
       "<text font-family=\"Times,serif\" font-size=\"14.00\" text-anchor=\"middle\" x=\"857\" y=\"-264.3\">val=1.0 TensorType(float32, scalar)</text>\n",
       "</g>\n",
       "<!-- 140453370864464&#45;&gt;140453373352464 -->\n",
       "<g class=\"edge\" id=\"edge12\"><title>140453370864464-&gt;140453373352464</title>\n",
       "<path d=\"M849.558,-249.851C843.586,-238.279 834.043,-223.753 821,-216 785.529,-194.914 680.052,-186.524 604.43,-183.191\" fill=\"none\" stroke=\"black\"/>\n",
       "<polygon fill=\"black\" points=\"604.571,-179.694 594.433,-182.771 604.278,-186.687 604.571,-179.694\" stroke=\"black\"/>\n",
       "<text font-family=\"Times,serif\" font-size=\"14.00\" text-anchor=\"middle\" x=\"841.5\" y=\"-220.3\">1</text>\n",
       "</g>\n",
       "<!-- 140453371803088 -->\n",
       "<g class=\"node\" id=\"node13\"><title>140453371803088</title>\n",
       "<polygon fill=\"blue\" points=\"608.25,-36 435.75,-36 435.75,-0 608.25,-0 608.25,-36\" stroke=\"black\"/>\n",
       "<text font-family=\"Times,serif\" font-size=\"14.00\" text-anchor=\"middle\" x=\"522\" y=\"-14.3\">TensorType(float32, matrix)</text>\n",
       "</g>\n",
       "<!-- 140453371803152&#45;&gt;140453371803088 -->\n",
       "<g class=\"edge\" id=\"edge16\"><title>140453371803152-&gt;140453371803088</title>\n",
       "<path d=\"M522,-73.937C522,-65.8072 522,-55.8761 522,-46.7047\" fill=\"none\" stroke=\"black\"/>\n",
       "<polygon fill=\"black\" points=\"525.5,-46.4406 522,-36.4407 518.5,-46.4407 525.5,-46.4406\" stroke=\"black\"/>\n",
       "</g>\n",
       "</g>\n",
       "</svg>"
      ],
      "text/plain": [
       "<IPython.core.display.SVG object>"
      ]
     },
     "execution_count": 36,
     "metadata": {},
     "output_type": "execute_result"
    }
   ],
   "source": [
    "nf = theano.function([tX],op)\n",
    "viz(nf)"
   ]
  },
  {
   "cell_type": "code",
   "execution_count": 51,
   "metadata": {
    "collapsed": false
   },
   "outputs": [
    {
     "data": {
      "image/svg+xml": [
       "<svg height=\"808pt\" viewBox=\"0.00 0.00 911.00 808.00\" width=\"911pt\" xmlns=\"http://www.w3.org/2000/svg\" xmlns:xlink=\"http://www.w3.org/1999/xlink\">\n",
       "<g class=\"graph\" id=\"graph0\" transform=\"scale(1 1) rotate(0) translate(4 804)\">\n",
       "<title>G</title>\n",
       "<polygon fill=\"white\" points=\"-4,4 -4,-804 907,-804 907,4 -4,4\" stroke=\"none\"/>\n",
       "<!-- 140453292200208 -->\n",
       "<g class=\"node\" id=\"node1\"><title>140453292200208</title>\n",
       "<ellipse cx=\"780\" cy=\"-708\" fill=\"none\" rx=\"61.6163\" ry=\"18\" stroke=\"black\"/>\n",
       "<text font-family=\"Times,serif\" font-size=\"14.00\" text-anchor=\"middle\" x=\"780\" y=\"-704.3\">DimShuffle{}</text>\n",
       "</g>\n",
       "<!-- 140453370547024 -->\n",
       "<g class=\"node\" id=\"node6\"><title>140453370547024</title>\n",
       "<ellipse cx=\"725\" cy=\"-620\" fill=\"#ffaabb\" rx=\"66.4165\" ry=\"18\" stroke=\"black\"/>\n",
       "<text font-family=\"Times,serif\" font-size=\"14.00\" text-anchor=\"middle\" x=\"725\" y=\"-616.3\">Elemwise{sub}</text>\n",
       "</g>\n",
       "<!-- 140453292200208&#45;&gt;140453370547024 -->\n",
       "<g class=\"edge\" id=\"edge5\"><title>140453292200208-&gt;140453370547024</title>\n",
       "<path d=\"M769.134,-690.009C761.224,-677.641 750.374,-660.675 741.411,-646.661\" fill=\"none\" stroke=\"black\"/>\n",
       "<polygon fill=\"black\" points=\"744.18,-644.494 735.844,-637.956 738.283,-648.266 744.18,-644.494\" stroke=\"black\"/>\n",
       "<text font-family=\"Times,serif\" font-size=\"14.00\" text-anchor=\"middle\" x=\"830.5\" y=\"-660.3\">1 TensorType(int8, scalar)</text>\n",
       "</g>\n",
       "<!-- 140453292201552 -->\n",
       "<g class=\"node\" id=\"node2\"><title>140453292201552</title>\n",
       "<polygon fill=\"green\" points=\"374.5,-800 189.5,-800 189.5,-764 374.5,-764 374.5,-800\" stroke=\"black\"/>\n",
       "<text font-family=\"Times,serif\" font-size=\"14.00\" text-anchor=\"middle\" x=\"282\" y=\"-778.3\">val=1 TensorType(int8, scalar)</text>\n",
       "</g>\n",
       "<!-- 140453292201552&#45;&gt;140453292200208 -->\n",
       "<g class=\"edge\" id=\"edge1\"><title>140453292201552-&gt;140453292200208</title>\n",
       "<path d=\"M374.667,-771.831C461.249,-762.605 593.916,-746.775 708,-726 713.666,-724.968 719.557,-723.776 725.419,-722.512\" fill=\"none\" stroke=\"black\"/>\n",
       "<polygon fill=\"black\" points=\"726.213,-725.921 735.214,-720.331 724.692,-719.088 726.213,-725.921\" stroke=\"black\"/>\n",
       "</g>\n",
       "<!-- 140453292239184 -->\n",
       "<g class=\"node\" id=\"node10\"><title>140453292239184</title>\n",
       "<ellipse cx=\"108\" cy=\"-444\" fill=\"#ffaabb\" rx=\"108.31\" ry=\"18\" stroke=\"black\"/>\n",
       "<text font-family=\"Times,serif\" font-size=\"14.00\" text-anchor=\"middle\" x=\"108\" y=\"-440.3\">Elemwise{add,no_inplace}</text>\n",
       "</g>\n",
       "<!-- 140453292201552&#45;&gt;140453292239184 -->\n",
       "<g class=\"edge\" id=\"edge11\"><title>140453292201552-&gt;140453292239184</title>\n",
       "<path d=\"M189.396,-775.354C147.842,-767.255 108,-749.048 108,-709 108,-709 108,-709 108,-531 108,-511.404 108,-489.296 108,-472.402\" fill=\"none\" stroke=\"black\"/>\n",
       "<polygon fill=\"black\" points=\"111.5,-472.133 108,-462.133 104.5,-472.133 111.5,-472.133\" stroke=\"black\"/>\n",
       "<text font-family=\"Times,serif\" font-size=\"14.00\" text-anchor=\"middle\" x=\"111.5\" y=\"-616.3\">1</text>\n",
       "</g>\n",
       "<!-- 140453370548112 -->\n",
       "<g class=\"node\" id=\"node3\"><title>140453370548112</title>\n",
       "<ellipse cx=\"244\" cy=\"-620\" fill=\"#ffaabb\" rx=\"110.235\" ry=\"18\" stroke=\"black\"/>\n",
       "<text font-family=\"Times,serif\" font-size=\"14.00\" text-anchor=\"middle\" x=\"244\" y=\"-616.3\">Elemwise{pow,no_inplace}</text>\n",
       "</g>\n",
       "<!-- 140453370547984 -->\n",
       "<g class=\"node\" id=\"node7\"><title>140453370547984</title>\n",
       "<ellipse cx=\"246\" cy=\"-532\" fill=\"#ffaabb\" rx=\"109.261\" ry=\"18\" stroke=\"black\"/>\n",
       "<text font-family=\"Times,serif\" font-size=\"14.00\" text-anchor=\"middle\" x=\"246\" y=\"-528.3\">Elemwise{mul,no_inplace}</text>\n",
       "</g>\n",
       "<!-- 140453370548112&#45;&gt;140453370547984 -->\n",
       "<g class=\"edge\" id=\"edge7\"><title>140453370548112-&gt;140453370547984</title>\n",
       "<path d=\"M244.405,-601.597C244.68,-589.746 245.051,-573.817 245.365,-560.292\" fill=\"none\" stroke=\"black\"/>\n",
       "<polygon fill=\"black\" points=\"248.869,-560.163 245.603,-550.084 241.871,-560 248.869,-560.163\" stroke=\"black\"/>\n",
       "<text font-family=\"Times,serif\" font-size=\"14.00\" text-anchor=\"middle\" x=\"327.5\" y=\"-572.3\">1 TensorType(float32, scalar)</text>\n",
       "</g>\n",
       "<!-- 140453293026704 -->\n",
       "<g class=\"node\" id=\"node4\"><title>140453293026704</title>\n",
       "<polygon fill=\"green\" points=\"453.5,-726 286.5,-726 286.5,-690 453.5,-690 453.5,-726\" stroke=\"black\"/>\n",
       "<text font-family=\"Times,serif\" font-size=\"14.00\" text-anchor=\"middle\" x=\"370\" y=\"-704.3\">TensorType(float32, scalar)</text>\n",
       "</g>\n",
       "<!-- 140453293026704&#45;&gt;140453370548112 -->\n",
       "<g class=\"edge\" id=\"edge2\"><title>140453293026704-&gt;140453370548112</title>\n",
       "<path d=\"M344.805,-689.803C325.238,-676.448 297.95,-657.823 276.699,-643.318\" fill=\"none\" stroke=\"black\"/>\n",
       "<polygon fill=\"black\" points=\"278.528,-640.329 268.295,-637.582 274.582,-646.111 278.528,-640.329\" stroke=\"black\"/>\n",
       "<text font-family=\"Times,serif\" font-size=\"14.00\" text-anchor=\"middle\" x=\"322.5\" y=\"-660.3\">0</text>\n",
       "</g>\n",
       "<!-- 140453370544848 -->\n",
       "<g class=\"node\" id=\"node9\"><title>140453370544848</title>\n",
       "<ellipse cx=\"725\" cy=\"-532\" fill=\"#ffaabb\" rx=\"69.3156\" ry=\"18\" stroke=\"black\"/>\n",
       "<text font-family=\"Times,serif\" font-size=\"14.00\" text-anchor=\"middle\" x=\"725\" y=\"-528.3\">Elemwise{pow}</text>\n",
       "</g>\n",
       "<!-- 140453293026704&#45;&gt;140453370544848 -->\n",
       "<g class=\"edge\" id=\"edge8\"><title>140453293026704-&gt;140453370544848</title>\n",
       "<path d=\"M430.299,-689.984C469.878,-677.804 522.223,-659.747 566,-638 613.931,-614.189 664.785,-578.536 695.722,-555.52\" fill=\"none\" stroke=\"black\"/>\n",
       "<polygon fill=\"black\" points=\"698.003,-558.185 703.901,-549.384 693.802,-552.586 698.003,-558.185\" stroke=\"black\"/>\n",
       "<text font-family=\"Times,serif\" font-size=\"14.00\" text-anchor=\"middle\" x=\"630.5\" y=\"-616.3\">0</text>\n",
       "</g>\n",
       "<!-- 140453292202320 -->\n",
       "<g class=\"node\" id=\"node5\"><title>140453292202320</title>\n",
       "<polygon fill=\"green\" points=\"699.5,-726 514.5,-726 514.5,-690 699.5,-690 699.5,-726\" stroke=\"black\"/>\n",
       "<text font-family=\"Times,serif\" font-size=\"14.00\" text-anchor=\"middle\" x=\"607\" y=\"-704.3\">val=2 TensorType(int8, scalar)</text>\n",
       "</g>\n",
       "<!-- 140453292202320&#45;&gt;140453370548112 -->\n",
       "<g class=\"edge\" id=\"edge3\"><title>140453292202320-&gt;140453370548112</title>\n",
       "<path d=\"M534.849,-689.906C470.573,-674.678 377.128,-652.54 313.63,-637.496\" fill=\"none\" stroke=\"black\"/>\n",
       "<polygon fill=\"black\" points=\"314.243,-634.045 303.705,-635.145 312.629,-640.856 314.243,-634.045\" stroke=\"black\"/>\n",
       "<text font-family=\"Times,serif\" font-size=\"14.00\" text-anchor=\"middle\" x=\"462.5\" y=\"-660.3\">1</text>\n",
       "</g>\n",
       "<!-- 140453292202320&#45;&gt;140453370547024 -->\n",
       "<g class=\"edge\" id=\"edge4\"><title>140453292202320-&gt;140453370547024</title>\n",
       "<path d=\"M630.595,-689.803C649.074,-676.336 674.906,-657.509 694.878,-642.954\" fill=\"none\" stroke=\"black\"/>\n",
       "<polygon fill=\"black\" points=\"697.02,-645.723 703.04,-637.005 692.897,-640.066 697.02,-645.723\" stroke=\"black\"/>\n",
       "<text font-family=\"Times,serif\" font-size=\"14.00\" text-anchor=\"middle\" x=\"680.5\" y=\"-660.3\">0</text>\n",
       "</g>\n",
       "<!-- 140453373400464 -->\n",
       "<g class=\"node\" id=\"node14\"><title>140453373400464</title>\n",
       "<ellipse cx=\"547\" cy=\"-180\" fill=\"#ffaabb\" rx=\"87.613\" ry=\"18\" stroke=\"black\"/>\n",
       "<text font-family=\"Times,serif\" font-size=\"14.00\" text-anchor=\"middle\" x=\"547\" y=\"-176.3\">Elemwise{mul} id=8</text>\n",
       "</g>\n",
       "<!-- 140453292202320&#45;&gt;140453373400464 -->\n",
       "<g class=\"edge\" id=\"edge17\"><title>140453292202320-&gt;140453373400464</title>\n",
       "<path d=\"M610.303,-689.788C615.983,-658.636 627,-590.774 627,-533 627,-533 627,-533 627,-267 627,-243.495 627.699,-234.342 613,-216 608.428,-210.294 602.669,-205.404 596.467,-201.247\" fill=\"none\" stroke=\"black\"/>\n",
       "<polygon fill=\"black\" points=\"598.177,-198.191 587.806,-196.025 594.563,-204.186 598.177,-198.191\" stroke=\"black\"/>\n",
       "<text font-family=\"Times,serif\" font-size=\"14.00\" text-anchor=\"middle\" x=\"630.5\" y=\"-440.3\">1</text>\n",
       "</g>\n",
       "<!-- 140453370547024&#45;&gt;140453370544848 -->\n",
       "<g class=\"edge\" id=\"edge9\"><title>140453370547024-&gt;140453370544848</title>\n",
       "<path d=\"M725,-601.597C725,-589.746 725,-573.817 725,-560.292\" fill=\"none\" stroke=\"black\"/>\n",
       "<polygon fill=\"black\" points=\"728.5,-560.084 725,-550.084 721.5,-560.084 728.5,-560.084\" stroke=\"black\"/>\n",
       "<text font-family=\"Times,serif\" font-size=\"14.00\" text-anchor=\"middle\" x=\"797.5\" y=\"-572.3\">1 TensorType(int8, scalar)</text>\n",
       "</g>\n",
       "<!-- 140453370547984&#45;&gt;140453292239184 -->\n",
       "<g class=\"edge\" id=\"edge10\"><title>140453370547984-&gt;140453292239184</title>\n",
       "<path d=\"M219.392,-514.418C197.724,-500.915 166.949,-481.736 143.235,-466.958\" fill=\"none\" stroke=\"black\"/>\n",
       "<polygon fill=\"black\" points=\"144.864,-463.849 134.526,-461.531 141.162,-469.79 144.864,-463.849\" stroke=\"black\"/>\n",
       "<text font-family=\"Times,serif\" font-size=\"14.00\" text-anchor=\"middle\" x=\"271.5\" y=\"-484.3\">0 TensorType(float32, scalar)</text>\n",
       "</g>\n",
       "<!-- 140453373855312 -->\n",
       "<g class=\"node\" id=\"node8\"><title>140453373855312</title>\n",
       "<polygon fill=\"green\" points=\"557.5,-638 372.5,-638 372.5,-602 557.5,-602 557.5,-638\" stroke=\"black\"/>\n",
       "<text font-family=\"Times,serif\" font-size=\"14.00\" text-anchor=\"middle\" x=\"465\" y=\"-616.3\">val=3 TensorType(int8, scalar)</text>\n",
       "</g>\n",
       "<!-- 140453373855312&#45;&gt;140453370547984 -->\n",
       "<g class=\"edge\" id=\"edge6\"><title>140453373855312-&gt;140453370547984</title>\n",
       "<path d=\"M451.848,-601.728C442.296,-590.407 428.387,-576.23 413,-568 392.635,-557.108 369.185,-549.604 346.419,-544.434\" fill=\"none\" stroke=\"black\"/>\n",
       "<polygon fill=\"black\" points=\"346.879,-540.954 336.369,-542.289 345.418,-547.8 346.879,-540.954\" stroke=\"black\"/>\n",
       "<text font-family=\"Times,serif\" font-size=\"14.00\" text-anchor=\"middle\" x=\"437.5\" y=\"-572.3\">0</text>\n",
       "</g>\n",
       "<!-- 140453292239056 -->\n",
       "<g class=\"node\" id=\"node13\"><title>140453292239056</title>\n",
       "<ellipse cx=\"449\" cy=\"-268\" fill=\"#ffaabb\" rx=\"68.3417\" ry=\"18\" stroke=\"black\"/>\n",
       "<text font-family=\"Times,serif\" font-size=\"14.00\" text-anchor=\"middle\" x=\"449\" y=\"-264.3\">Elemwise{mul}</text>\n",
       "</g>\n",
       "<!-- 140453373855312&#45;&gt;140453292239056 -->\n",
       "<g class=\"edge\" id=\"edge15\"><title>140453373855312-&gt;140453292239056</title>\n",
       "<path d=\"M471.438,-601.813C477.285,-584.645 485,-557.373 485,-533 485,-533 485,-533 485,-355 485,-331.495 480.467,-325.514 471,-304 469.641,-300.912 468.04,-297.779 466.331,-294.72\" fill=\"none\" stroke=\"black\"/>\n",
       "<polygon fill=\"black\" points=\"469.172,-292.652 461.015,-285.89 463.174,-296.263 469.172,-292.652\" stroke=\"black\"/>\n",
       "<text font-family=\"Times,serif\" font-size=\"14.00\" text-anchor=\"middle\" x=\"488.5\" y=\"-440.3\">1</text>\n",
       "</g>\n",
       "<!-- 140453373399184 -->\n",
       "<g class=\"node\" id=\"node15\"><title>140453373399184</title>\n",
       "<ellipse cx=\"636\" cy=\"-92\" fill=\"#ffaabb\" rx=\"87.613\" ry=\"18\" stroke=\"black\"/>\n",
       "<text font-family=\"Times,serif\" font-size=\"14.00\" text-anchor=\"middle\" x=\"636\" y=\"-88.3\">Elemwise{mul} id=9</text>\n",
       "</g>\n",
       "<!-- 140453370544848&#45;&gt;140453373399184 -->\n",
       "<g class=\"edge\" id=\"edge19\"><title>140453370544848-&gt;140453373399184</title>\n",
       "<path d=\"M725,-513.867C725,-496.51 725,-468.889 725,-445 725,-445 725,-445 725,-179 725,-155.495 726.161,-145.962 711,-128 705.722,-121.746 699.08,-116.543 691.942,-112.232\" fill=\"none\" stroke=\"black\"/>\n",
       "<polygon fill=\"black\" points=\"693.163,-108.913 682.702,-107.237 689.834,-115.071 693.163,-108.913\" stroke=\"black\"/>\n",
       "<text font-family=\"Times,serif\" font-size=\"14.00\" text-anchor=\"middle\" x=\"806.5\" y=\"-308.3\">1 TensorType(float32, scalar)</text>\n",
       "</g>\n",
       "<!-- 140453292236944 -->\n",
       "<g class=\"node\" id=\"node11\"><title>140453292236944</title>\n",
       "<ellipse cx=\"307\" cy=\"-356\" fill=\"#ffaabb\" rx=\"120.359\" ry=\"18\" stroke=\"black\"/>\n",
       "<text font-family=\"Times,serif\" font-size=\"14.00\" text-anchor=\"middle\" x=\"307\" y=\"-352.3\">Elemwise{second,no_inplace}</text>\n",
       "</g>\n",
       "<!-- 140453292239184&#45;&gt;140453292236944 -->\n",
       "<g class=\"edge\" id=\"edge12\"><title>140453292239184-&gt;140453292236944</title>\n",
       "<path d=\"M119.594,-425.802C128.097,-414.514 140.632,-400.346 155,-392 171.176,-382.603 189.691,-375.729 208.105,-370.701\" fill=\"none\" stroke=\"black\"/>\n",
       "<polygon fill=\"black\" points=\"209.189,-374.036 218.008,-368.164 207.453,-367.255 209.189,-374.036\" stroke=\"black\"/>\n",
       "<text font-family=\"Times,serif\" font-size=\"14.00\" text-anchor=\"middle\" x=\"236.5\" y=\"-396.3\">0 TensorType(float32, scalar)</text>\n",
       "</g>\n",
       "<!-- 140453292236944&#45;&gt;140453292239056 -->\n",
       "<g class=\"edge\" id=\"edge14\"><title>140453292236944-&gt;140453292239056</title>\n",
       "<path d=\"M302.422,-337.611C300.671,-326.814 300.598,-313.275 308,-304 317.334,-292.304 348.308,-283.931 378.855,-278.313\" fill=\"none\" stroke=\"black\"/>\n",
       "<polygon fill=\"black\" points=\"379.483,-281.757 388.731,-276.585 378.277,-274.861 379.483,-281.757\" stroke=\"black\"/>\n",
       "<text font-family=\"Times,serif\" font-size=\"14.00\" text-anchor=\"middle\" x=\"389.5\" y=\"-308.3\">0 TensorType(float32, scalar)</text>\n",
       "</g>\n",
       "<!-- 140453292203024 -->\n",
       "<g class=\"node\" id=\"node12\"><title>140453292203024</title>\n",
       "<polygon fill=\"green\" points=\"448.5,-462 235.5,-462 235.5,-426 448.5,-426 448.5,-462\" stroke=\"black\"/>\n",
       "<text font-family=\"Times,serif\" font-size=\"14.00\" text-anchor=\"middle\" x=\"342\" y=\"-440.3\">val=1.0 TensorType(float32, scalar)</text>\n",
       "</g>\n",
       "<!-- 140453292203024&#45;&gt;140453292236944 -->\n",
       "<g class=\"edge\" id=\"edge13\"><title>140453292203024-&gt;140453292236944</title>\n",
       "<path d=\"M334.917,-425.597C329.999,-413.511 323.354,-397.184 317.781,-383.491\" fill=\"none\" stroke=\"black\"/>\n",
       "<polygon fill=\"black\" points=\"320.964,-382.027 313.953,-374.084 314.481,-384.666 320.964,-382.027\" stroke=\"black\"/>\n",
       "<text font-family=\"Times,serif\" font-size=\"14.00\" text-anchor=\"middle\" x=\"331.5\" y=\"-396.3\">1</text>\n",
       "</g>\n",
       "<!-- 140453292239056&#45;&gt;140453373400464 -->\n",
       "<g class=\"edge\" id=\"edge16\"><title>140453292239056-&gt;140453373400464</title>\n",
       "<path d=\"M444.753,-249.862C443.135,-239.165 443.085,-225.644 450,-216 455.946,-207.707 464.054,-201.372 473.065,-196.533\" fill=\"none\" stroke=\"black\"/>\n",
       "<polygon fill=\"black\" points=\"474.77,-199.599 482.33,-192.177 471.791,-193.265 474.77,-199.599\" stroke=\"black\"/>\n",
       "<text font-family=\"Times,serif\" font-size=\"14.00\" text-anchor=\"middle\" x=\"531.5\" y=\"-220.3\">0 TensorType(float32, scalar)</text>\n",
       "</g>\n",
       "<!-- 140453373400464&#45;&gt;140453373399184 -->\n",
       "<g class=\"edge\" id=\"edge18\"><title>140453373400464-&gt;140453373399184</title>\n",
       "<path d=\"M542.86,-161.938C541.284,-151.27 541.242,-137.754 548,-128 553.226,-120.457 560.357,-114.54 568.312,-109.897\" fill=\"none\" stroke=\"black\"/>\n",
       "<polygon fill=\"black\" points=\"569.907,-113.013 577.218,-105.344 566.721,-106.78 569.907,-113.013\" stroke=\"black\"/>\n",
       "<text font-family=\"Times,serif\" font-size=\"14.00\" text-anchor=\"middle\" x=\"629.5\" y=\"-132.3\">0 TensorType(float32, scalar)</text>\n",
       "</g>\n",
       "<!-- 140453373401936 -->\n",
       "<g class=\"node\" id=\"node16\"><title>140453373401936</title>\n",
       "<polygon fill=\"blue\" points=\"719.5,-36 552.5,-36 552.5,-0 719.5,-0 719.5,-36\" stroke=\"black\"/>\n",
       "<text font-family=\"Times,serif\" font-size=\"14.00\" text-anchor=\"middle\" x=\"636\" y=\"-14.3\">TensorType(float32, scalar)</text>\n",
       "</g>\n",
       "<!-- 140453373399184&#45;&gt;140453373401936 -->\n",
       "<g class=\"edge\" id=\"edge20\"><title>140453373399184-&gt;140453373401936</title>\n",
       "<path d=\"M636,-73.937C636,-65.8072 636,-55.8761 636,-46.7047\" fill=\"none\" stroke=\"black\"/>\n",
       "<polygon fill=\"black\" points=\"639.5,-46.4406 636,-36.4407 632.5,-46.4407 639.5,-46.4406\" stroke=\"black\"/>\n",
       "</g>\n",
       "</g>\n",
       "</svg>"
      ],
      "text/plain": [
       "<IPython.core.display.SVG object>"
      ]
     },
     "execution_count": 51,
     "metadata": {},
     "output_type": "execute_result"
    }
   ],
   "source": [
    "gradY = T.grad(y,x)\n",
    "gradY.eval({x:2})\n",
    "viz(gradY)"
   ]
  },
  {
   "cell_type": "code",
   "execution_count": 64,
   "metadata": {
    "collapsed": false
   },
   "outputs": [
    {
     "data": {
      "text/plain": [
       "theano.tensor.var.TensorVariable"
      ]
     },
     "execution_count": 64,
     "metadata": {},
     "output_type": "execute_result"
    }
   ],
   "source": [
    "_Y = T.dot(_X,_X)\n",
    "type(_Y)"
   ]
  },
  {
   "cell_type": "code",
   "execution_count": 67,
   "metadata": {
    "collapsed": false
   },
   "outputs": [
    {
     "data": {
      "text/plain": [
       "array([[ 0.,  0.,  0.],\n",
       "       [ 0.,  0.,  0.],\n",
       "       [ 0.,  0.,  0.]], dtype=float32)"
      ]
     },
     "execution_count": 67,
     "metadata": {},
     "output_type": "execute_result"
    }
   ],
   "source": [
    "_Y.eval()"
   ]
  },
  {
   "cell_type": "code",
   "execution_count": 75,
   "metadata": {
    "collapsed": true
   },
   "outputs": [],
   "source": [
    "# Updates\n",
    "count = theano.shared(0.)\n",
    "updates = {count : count +1}\n",
    "f1 = theano.function([],count,updates=updates)\n"
   ]
  },
  {
   "cell_type": "code",
   "execution_count": 76,
   "metadata": {
    "collapsed": false
   },
   "outputs": [
    {
     "name": "stdout",
     "output_type": "stream",
     "text": [
      "0.0\n",
      "1.0\n",
      "2.0\n",
      "3.0\n",
      "4.0\n",
      "5.0\n",
      "6.0\n",
      "7.0\n",
      "8.0\n",
      "9.0\n"
     ]
    }
   ],
   "source": [
    "for _ in range(10):\n",
    "    print f1()"
   ]
  },
  {
   "cell_type": "code",
   "execution_count": null,
   "metadata": {
    "collapsed": false
   },
   "outputs": [],
   "source": []
  }
 ],
 "metadata": {
  "kernelspec": {
   "display_name": "Python 2",
   "language": "python",
   "name": "python2"
  },
  "language_info": {
   "codemirror_mode": {
    "name": "ipython",
    "version": 2
   },
   "file_extension": ".py",
   "mimetype": "text/x-python",
   "name": "python",
   "nbconvert_exporter": "python",
   "pygments_lexer": "ipython2",
   "version": "2.7.6"
  }
 },
 "nbformat": 4,
 "nbformat_minor": 0
}
